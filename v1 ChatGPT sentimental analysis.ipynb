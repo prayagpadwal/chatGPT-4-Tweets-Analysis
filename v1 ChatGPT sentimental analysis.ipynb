{
 "cells": [
  {
   "cell_type": "code",
   "execution_count": 218,
   "metadata": {},
   "outputs": [],
   "source": [
    "import numpy as np\n",
    "import pandas as pd\n",
    "import matplotlib.pyplot as plt\n",
    "import seaborn as sns\n",
    "import matplotlib.pyplot as plt"
   ]
  },
  {
   "cell_type": "code",
   "execution_count": 204,
   "metadata": {},
   "outputs": [
    {
     "data": {
      "text/plain": [
       "<function plotly.offline.offline.init_notebook_mode(connected=False)>"
      ]
     },
     "execution_count": 204,
     "metadata": {},
     "output_type": "execute_result"
    }
   ],
   "source": [
    "import warnings\n",
    "warnings.filterwarnings('ignore')\n",
    "plt.rc('figure', figsize=(17, 13))\n",
    "import plotly.express as px\n",
    "import plotly.graph_objects as go\n",
    "import plotly.offline as pyo \n",
    "from plotly.subplots import make_subplots\n",
    "pyo.init_notebook_mode"
   ]
  },
  {
   "cell_type": "code",
   "execution_count": 205,
   "metadata": {},
   "outputs": [],
   "source": [
    "import re\n",
    "import string\n",
    "import nltk \n",
    "from nltk.probability import FreqDist\n",
    "from nltk.stem import WordNetLemmatizer\n",
    "from nltk.corpus import stopwords\n",
    "from nltk.stem import SnowballStemmer\n",
    "from nltk import pos_tag\n",
    "from nltk.tokenize import word_tokenize\n"
   ]
  },
  {
   "cell_type": "code",
   "execution_count": 206,
   "metadata": {},
   "outputs": [],
   "source": [
    "from wordcloud import wordcloud\n",
    "from tqdm.auto import tqdm  "
   ]
  },
  {
   "cell_type": "code",
   "execution_count": 207,
   "metadata": {},
   "outputs": [
    {
     "data": {
      "text/html": [
       "<div>\n",
       "<style scoped>\n",
       "    .dataframe tbody tr th:only-of-type {\n",
       "        vertical-align: middle;\n",
       "    }\n",
       "\n",
       "    .dataframe tbody tr th {\n",
       "        vertical-align: top;\n",
       "    }\n",
       "\n",
       "    .dataframe thead th {\n",
       "        text-align: right;\n",
       "    }\n",
       "</style>\n",
       "<table border=\"1\" class=\"dataframe\">\n",
       "  <thead>\n",
       "    <tr style=\"text-align: right;\">\n",
       "      <th></th>\n",
       "      <th>user_name</th>\n",
       "      <th>text</th>\n",
       "      <th>user_location</th>\n",
       "      <th>user_description</th>\n",
       "      <th>user_created</th>\n",
       "      <th>user_followers</th>\n",
       "      <th>user_friends</th>\n",
       "      <th>user_favourites</th>\n",
       "      <th>user_verified</th>\n",
       "      <th>date</th>\n",
       "      <th>hashtags</th>\n",
       "      <th>source</th>\n",
       "    </tr>\n",
       "  </thead>\n",
       "  <tbody>\n",
       "    <tr>\n",
       "      <th>0</th>\n",
       "      <td>A Question A Day</td>\n",
       "      <td>What would be the output of the two print stat...</td>\n",
       "      <td>NaN</td>\n",
       "      <td>Simple and basic question on programming langu...</td>\n",
       "      <td>2021-10-28 05:57:40+00:00</td>\n",
       "      <td>463.0</td>\n",
       "      <td>8.0</td>\n",
       "      <td>17</td>\n",
       "      <td>False</td>\n",
       "      <td>2023-04-03 13:29:05+00:00</td>\n",
       "      <td>['python', 'programming', 'chatGPT']</td>\n",
       "      <td>Buffer</td>\n",
       "    </tr>\n",
       "    <tr>\n",
       "      <th>1</th>\n",
       "      <td>Mark Virag</td>\n",
       "      <td>Of interest to my stock-trading tweeps...\\n\\nI...</td>\n",
       "      <td>North Dallas</td>\n",
       "      <td>My interests are Automotive F&amp;I (both), Machin...</td>\n",
       "      <td>2015-08-24 14:36:59+00:00</td>\n",
       "      <td>777.0</td>\n",
       "      <td>529.0</td>\n",
       "      <td>770</td>\n",
       "      <td>False</td>\n",
       "      <td>2023-04-03 13:29:00+00:00</td>\n",
       "      <td>['ChatGPT']</td>\n",
       "      <td>TweetDeck Web App</td>\n",
       "    </tr>\n",
       "    <tr>\n",
       "      <th>2</th>\n",
       "      <td>The Decision Lab</td>\n",
       "      <td>ChatGPT can write you a poem, answer philosoph...</td>\n",
       "      <td>Montréal, Québec</td>\n",
       "      <td>TDL is a behavioral design think tank. We appl...</td>\n",
       "      <td>2016-07-21 18:51:59+00:00</td>\n",
       "      <td>4783.0</td>\n",
       "      <td>389.0</td>\n",
       "      <td>76</td>\n",
       "      <td>False</td>\n",
       "      <td>2023-04-03 13:28:53+00:00</td>\n",
       "      <td>NaN</td>\n",
       "      <td>HubSpot</td>\n",
       "    </tr>\n",
       "    <tr>\n",
       "      <th>3</th>\n",
       "      <td>Red Clover Advisors</td>\n",
       "      <td>Italy has given OpenAI 20 days to relay measur...</td>\n",
       "      <td>Atlanta, GA</td>\n",
       "      <td>Privacy consultant helping companies have a pr...</td>\n",
       "      <td>2016-09-13 02:33:33+00:00</td>\n",
       "      <td>357.0</td>\n",
       "      <td>296.0</td>\n",
       "      <td>1154</td>\n",
       "      <td>False</td>\n",
       "      <td>2023-04-03 13:28:37+00:00</td>\n",
       "      <td>NaN</td>\n",
       "      <td>Zoho Social</td>\n",
       "    </tr>\n",
       "    <tr>\n",
       "      <th>4</th>\n",
       "      <td>Bitone Great</td>\n",
       "      <td>📉#Sell!📉\\n🔥RSI over 85!🔥\\n[#Bybit]\\n👇 Recommen...</td>\n",
       "      <td>NaN</td>\n",
       "      <td>#ChatGPT (AI) powered Free Trading Signal! \\nL...</td>\n",
       "      <td>2022-11-21 04:42:18+00:00</td>\n",
       "      <td>1086.0</td>\n",
       "      <td>492.0</td>\n",
       "      <td>47</td>\n",
       "      <td>False</td>\n",
       "      <td>2023-04-03 13:28:27+00:00</td>\n",
       "      <td>['Sell', 'Bybit', 'Short', 'SXPUSDT']</td>\n",
       "      <td>rsi1</td>\n",
       "    </tr>\n",
       "  </tbody>\n",
       "</table>\n",
       "</div>"
      ],
      "text/plain": [
       "             user_name                                               text  \\\n",
       "0     A Question A Day  What would be the output of the two print stat...   \n",
       "1           Mark Virag  Of interest to my stock-trading tweeps...\\n\\nI...   \n",
       "2     The Decision Lab  ChatGPT can write you a poem, answer philosoph...   \n",
       "3  Red Clover Advisors  Italy has given OpenAI 20 days to relay measur...   \n",
       "4         Bitone Great  📉#Sell!📉\\n🔥RSI over 85!🔥\\n[#Bybit]\\n👇 Recommen...   \n",
       "\n",
       "      user_location                                   user_description  \\\n",
       "0               NaN  Simple and basic question on programming langu...   \n",
       "1      North Dallas  My interests are Automotive F&I (both), Machin...   \n",
       "2  Montréal, Québec  TDL is a behavioral design think tank. We appl...   \n",
       "3       Atlanta, GA  Privacy consultant helping companies have a pr...   \n",
       "4               NaN  #ChatGPT (AI) powered Free Trading Signal! \\nL...   \n",
       "\n",
       "                user_created user_followers user_friends user_favourites  \\\n",
       "0  2021-10-28 05:57:40+00:00          463.0          8.0              17   \n",
       "1  2015-08-24 14:36:59+00:00          777.0        529.0             770   \n",
       "2  2016-07-21 18:51:59+00:00         4783.0        389.0              76   \n",
       "3  2016-09-13 02:33:33+00:00          357.0        296.0            1154   \n",
       "4  2022-11-21 04:42:18+00:00         1086.0        492.0              47   \n",
       "\n",
       "  user_verified                       date  \\\n",
       "0         False  2023-04-03 13:29:05+00:00   \n",
       "1         False  2023-04-03 13:29:00+00:00   \n",
       "2         False  2023-04-03 13:28:53+00:00   \n",
       "3         False  2023-04-03 13:28:37+00:00   \n",
       "4         False  2023-04-03 13:28:27+00:00   \n",
       "\n",
       "                                hashtags             source  \n",
       "0   ['python', 'programming', 'chatGPT']             Buffer  \n",
       "1                            ['ChatGPT']  TweetDeck Web App  \n",
       "2                                    NaN            HubSpot  \n",
       "3                                    NaN        Zoho Social  \n",
       "4  ['Sell', 'Bybit', 'Short', 'SXPUSDT']               rsi1  "
      ]
     },
     "execution_count": 207,
     "metadata": {},
     "output_type": "execute_result"
    }
   ],
   "source": [
    "df = pd.read_csv(r\"C:\\Users\\padwa\\OneDrive - CSULB\\Desktop\\Youtube project\\Linkedin chatGPT Machine Learning\\tweets.csv\")\n",
    "df.head(5)"
   ]
  },
  {
   "cell_type": "code",
   "execution_count": 208,
   "metadata": {},
   "outputs": [
    {
     "name": "stdout",
     "output_type": "stream",
     "text": [
      "Rows          :  725835\n",
      "Columns       :  12\n",
      "Features      :  ['user_name', 'text', 'user_location', 'user_description', 'user_created', 'user_followers', 'user_friends', 'user_favourites', 'user_verified', 'date', 'hashtags', 'source']\n",
      "Missing vlaues:\n",
      " user_name            51343\n",
      "text                352387\n",
      "user_location       443941\n",
      "user_description    379385\n",
      "user_created        418701\n",
      "user_followers      418701\n",
      "user_friends        418701\n",
      "user_favourites     418701\n",
      "user_verified       418704\n",
      "date                418708\n",
      "hashtags            483741\n",
      "source              418738\n",
      "dtype: int64\n",
      "Missing vlaues:  4641751\n"
     ]
    }
   ],
   "source": [
    "print(\"Rows          : \", df.shape[0])          #df.shape[0] gives the number of rows in the dataframe.\n",
    "print(\"Columns       : \", df.shape[1])          #df.shape[1] gives the number of columns in the dataframe.\n",
    "print(\"Features      : \", df.columns.tolist())  #df.columns.tolist() gives the name of  the columns in the dataframe.\n",
    "print(\"Missing vlaues:\\n\", df.isna().sum())     #df.isna().sum() gives the sum of all the NA values in the particular column.\n",
    "print(\"Missing vlaues: \", df.isna().sum().values.sum()) #df.isna().sum().values.sum()) gives the sum of the above."
   ]
  },
  {
   "cell_type": "code",
   "execution_count": 209,
   "metadata": {},
   "outputs": [
    {
     "name": "stdout",
     "output_type": "stream",
     "text": [
      "Unique        :\n",
      " user_name           134030\n",
      "text                303569\n",
      "user_location        32413\n",
      "user_description    134291\n",
      "user_created        136117\n",
      "user_followers       33121\n",
      "user_friends         14341\n",
      "user_favourites      41452\n",
      "user_verified           37\n",
      "date                292749\n",
      "hashtags             70345\n",
      "source                 904\n",
      "dtype: int64\n"
     ]
    }
   ],
   "source": [
    "print(\"Unique        :\\n\", df.nunique()) #df.nunique() gives the count of all the unique values in each column."
   ]
  },
  {
   "attachments": {},
   "cell_type": "markdown",
   "metadata": {},
   "source": [
    "#### Now new feature \"sentiment\" is created to analize the sentiment of each tweet."
   ]
  },
  {
   "cell_type": "code",
   "execution_count": 210,
   "metadata": {},
   "outputs": [],
   "source": [
    "#  converting the values to strings using the astype method before running the analysis\n",
    "df['text'] = df['text'].astype(str) "
   ]
  },
  {
   "cell_type": "code",
   "execution_count": 211,
   "metadata": {},
   "outputs": [],
   "source": [
    "from vaderSentiment.vaderSentiment import SentimentIntensityAnalyzer\n",
    "analyser = SentimentIntensityAnalyzer()\n",
    "scores= []\n",
    "for i in range(len(df['text'])):\n",
    "    score = analyser.polarity_scores(df['text'][i])         # analyzes the polarity of the text\n",
    "    score = score['compound']               \n",
    "    scores.append(score)\n",
    "sentiment = []\n",
    "\n",
    "for i in scores:                                            # Soting  \n",
    "    if i >= 0.05:\n",
    "        sentiment.append('Positive')                        \n",
    "    elif i <= (-0.05):\n",
    "        sentiment.append('Negative')\n",
    "    else:\n",
    "        sentiment.append('Neutral')\n",
    "df['sentiment'] = pd.Series(np.array(sentiment))"
   ]
  },
  {
   "attachments": {},
   "cell_type": "markdown",
   "metadata": {},
   "source": [
    "Explanation of the above code:\n",
    "\n",
    "1. This code uses the VADER (Valence Aware Dictionary and sEntiment Reasoner) Sentiment Analysis tool to analyze the sentiment (positive, negative, or neutral) of the text in the df['text'] column.\n",
    "\n",
    "2. First, the code imports the SentimentIntensityAnalyzer class from the vaderSentiment package and creates an instance of it named analyser.\n",
    "\n",
    "3. Then, a list named scores is initialized to store the sentiment scores (polarity scores) of each text. A for loop is used to iterate through each text in the df['text'] column.\n",
    "\n",
    "4. Inside the loop, the polarity_scores() method of the analyser object is called on each text to obtain a dictionary of sentiment scores for the text. The compound score is extracted from the dictionary, which represents an overall sentiment score ranging from -1 (most negative) to 1 (most positive).\n",
    "\n",
    "5. The compound score is then appended to the scores list.\n",
    "\n",
    "6. Finally, an empty list named sentiment is initialized to store the sentiment labels (positive, negative, or neutral) based on the compound score."
   ]
  },
  {
   "cell_type": "code",
   "execution_count": 212,
   "metadata": {},
   "outputs": [
    {
     "data": {
      "text/html": [
       "<div>\n",
       "<style scoped>\n",
       "    .dataframe tbody tr th:only-of-type {\n",
       "        vertical-align: middle;\n",
       "    }\n",
       "\n",
       "    .dataframe tbody tr th {\n",
       "        vertical-align: top;\n",
       "    }\n",
       "\n",
       "    .dataframe thead th {\n",
       "        text-align: right;\n",
       "    }\n",
       "</style>\n",
       "<table border=\"1\" class=\"dataframe\">\n",
       "  <thead>\n",
       "    <tr style=\"text-align: right;\">\n",
       "      <th></th>\n",
       "      <th>user_name</th>\n",
       "      <th>text</th>\n",
       "      <th>user_location</th>\n",
       "      <th>user_description</th>\n",
       "      <th>user_created</th>\n",
       "      <th>user_followers</th>\n",
       "      <th>user_friends</th>\n",
       "      <th>user_favourites</th>\n",
       "      <th>user_verified</th>\n",
       "      <th>date</th>\n",
       "      <th>hashtags</th>\n",
       "      <th>source</th>\n",
       "      <th>sentiment</th>\n",
       "    </tr>\n",
       "  </thead>\n",
       "  <tbody>\n",
       "    <tr>\n",
       "      <th>0</th>\n",
       "      <td>A Question A Day</td>\n",
       "      <td>What would be the output of the two print stat...</td>\n",
       "      <td>NaN</td>\n",
       "      <td>Simple and basic question on programming langu...</td>\n",
       "      <td>2021-10-28 05:57:40+00:00</td>\n",
       "      <td>463.0</td>\n",
       "      <td>8.0</td>\n",
       "      <td>17</td>\n",
       "      <td>False</td>\n",
       "      <td>2023-04-03 13:29:05+00:00</td>\n",
       "      <td>['python', 'programming', 'chatGPT']</td>\n",
       "      <td>Buffer</td>\n",
       "      <td>Neutral</td>\n",
       "    </tr>\n",
       "    <tr>\n",
       "      <th>1</th>\n",
       "      <td>Mark Virag</td>\n",
       "      <td>Of interest to my stock-trading tweeps...\\n\\nI...</td>\n",
       "      <td>North Dallas</td>\n",
       "      <td>My interests are Automotive F&amp;I (both), Machin...</td>\n",
       "      <td>2015-08-24 14:36:59+00:00</td>\n",
       "      <td>777.0</td>\n",
       "      <td>529.0</td>\n",
       "      <td>770</td>\n",
       "      <td>False</td>\n",
       "      <td>2023-04-03 13:29:00+00:00</td>\n",
       "      <td>['ChatGPT']</td>\n",
       "      <td>TweetDeck Web App</td>\n",
       "      <td>Positive</td>\n",
       "    </tr>\n",
       "    <tr>\n",
       "      <th>2</th>\n",
       "      <td>The Decision Lab</td>\n",
       "      <td>ChatGPT can write you a poem, answer philosoph...</td>\n",
       "      <td>Montréal, Québec</td>\n",
       "      <td>TDL is a behavioral design think tank. We appl...</td>\n",
       "      <td>2016-07-21 18:51:59+00:00</td>\n",
       "      <td>4783.0</td>\n",
       "      <td>389.0</td>\n",
       "      <td>76</td>\n",
       "      <td>False</td>\n",
       "      <td>2023-04-03 13:28:53+00:00</td>\n",
       "      <td>NaN</td>\n",
       "      <td>HubSpot</td>\n",
       "      <td>Neutral</td>\n",
       "    </tr>\n",
       "    <tr>\n",
       "      <th>3</th>\n",
       "      <td>Red Clover Advisors</td>\n",
       "      <td>Italy has given OpenAI 20 days to relay measur...</td>\n",
       "      <td>Atlanta, GA</td>\n",
       "      <td>Privacy consultant helping companies have a pr...</td>\n",
       "      <td>2016-09-13 02:33:33+00:00</td>\n",
       "      <td>357.0</td>\n",
       "      <td>296.0</td>\n",
       "      <td>1154</td>\n",
       "      <td>False</td>\n",
       "      <td>2023-04-03 13:28:37+00:00</td>\n",
       "      <td>NaN</td>\n",
       "      <td>Zoho Social</td>\n",
       "      <td>Positive</td>\n",
       "    </tr>\n",
       "    <tr>\n",
       "      <th>4</th>\n",
       "      <td>Bitone Great</td>\n",
       "      <td>📉#Sell!📉\\n🔥RSI over 85!🔥\\n[#Bybit]\\n👇 Recommen...</td>\n",
       "      <td>NaN</td>\n",
       "      <td>#ChatGPT (AI) powered Free Trading Signal! \\nL...</td>\n",
       "      <td>2022-11-21 04:42:18+00:00</td>\n",
       "      <td>1086.0</td>\n",
       "      <td>492.0</td>\n",
       "      <td>47</td>\n",
       "      <td>False</td>\n",
       "      <td>2023-04-03 13:28:27+00:00</td>\n",
       "      <td>['Sell', 'Bybit', 'Short', 'SXPUSDT']</td>\n",
       "      <td>rsi1</td>\n",
       "      <td>Negative</td>\n",
       "    </tr>\n",
       "  </tbody>\n",
       "</table>\n",
       "</div>"
      ],
      "text/plain": [
       "             user_name                                               text  \\\n",
       "0     A Question A Day  What would be the output of the two print stat...   \n",
       "1           Mark Virag  Of interest to my stock-trading tweeps...\\n\\nI...   \n",
       "2     The Decision Lab  ChatGPT can write you a poem, answer philosoph...   \n",
       "3  Red Clover Advisors  Italy has given OpenAI 20 days to relay measur...   \n",
       "4         Bitone Great  📉#Sell!📉\\n🔥RSI over 85!🔥\\n[#Bybit]\\n👇 Recommen...   \n",
       "\n",
       "      user_location                                   user_description  \\\n",
       "0               NaN  Simple and basic question on programming langu...   \n",
       "1      North Dallas  My interests are Automotive F&I (both), Machin...   \n",
       "2  Montréal, Québec  TDL is a behavioral design think tank. We appl...   \n",
       "3       Atlanta, GA  Privacy consultant helping companies have a pr...   \n",
       "4               NaN  #ChatGPT (AI) powered Free Trading Signal! \\nL...   \n",
       "\n",
       "                user_created user_followers user_friends user_favourites  \\\n",
       "0  2021-10-28 05:57:40+00:00          463.0          8.0              17   \n",
       "1  2015-08-24 14:36:59+00:00          777.0        529.0             770   \n",
       "2  2016-07-21 18:51:59+00:00         4783.0        389.0              76   \n",
       "3  2016-09-13 02:33:33+00:00          357.0        296.0            1154   \n",
       "4  2022-11-21 04:42:18+00:00         1086.0        492.0              47   \n",
       "\n",
       "  user_verified                       date  \\\n",
       "0         False  2023-04-03 13:29:05+00:00   \n",
       "1         False  2023-04-03 13:29:00+00:00   \n",
       "2         False  2023-04-03 13:28:53+00:00   \n",
       "3         False  2023-04-03 13:28:37+00:00   \n",
       "4         False  2023-04-03 13:28:27+00:00   \n",
       "\n",
       "                                hashtags             source sentiment  \n",
       "0   ['python', 'programming', 'chatGPT']             Buffer   Neutral  \n",
       "1                            ['ChatGPT']  TweetDeck Web App  Positive  \n",
       "2                                    NaN            HubSpot   Neutral  \n",
       "3                                    NaN        Zoho Social  Positive  \n",
       "4  ['Sell', 'Bybit', 'Short', 'SXPUSDT']               rsi1  Negative  "
      ]
     },
     "execution_count": 212,
     "metadata": {},
     "output_type": "execute_result"
    }
   ],
   "source": [
    "df.head(5)"
   ]
  },
  {
   "attachments": {},
   "cell_type": "markdown",
   "metadata": {},
   "source": [
    "### Exploratory data analysis (Performed Below)\n",
    "\n",
    "Exploratory Data Analysis (EDA) is an analysis approach that identifies general patterns in the data. These patterns include outliers and features of the data that might be unexpected.\n",
    "\n",
    "EDA is an important first step in any data analysis. Understanding where outliers occur and how variables are related can help one design statistical analyses that yield meaningful results."
   ]
  },
  {
   "cell_type": "code",
   "execution_count": 213,
   "metadata": {},
   "outputs": [
    {
     "data": {
      "text/html": [
       "<style type=\"text/css\">\n",
       "#T_0c1a5_row0_col1 {\n",
       "  background-color: #bfd8ed;\n",
       "  color: #000000;\n",
       "}\n",
       "#T_0c1a5_row1_col1 {\n",
       "  background-color: #08306b;\n",
       "  color: #f1f1f1;\n",
       "}\n",
       "#T_0c1a5_row2_col1 {\n",
       "  background-color: #f7fbff;\n",
       "  color: #000000;\n",
       "}\n",
       "</style>\n",
       "<table id=\"T_0c1a5\">\n",
       "  <thead>\n",
       "    <tr>\n",
       "      <th class=\"blank level0\" >&nbsp;</th>\n",
       "      <th id=\"T_0c1a5_level0_col0\" class=\"col_heading level0 col0\" >sentiment</th>\n",
       "      <th id=\"T_0c1a5_level0_col1\" class=\"col_heading level0 col1\" >text</th>\n",
       "    </tr>\n",
       "  </thead>\n",
       "  <tbody>\n",
       "    <tr>\n",
       "      <th id=\"T_0c1a5_level0_row0\" class=\"row_heading level0 row0\" >2</th>\n",
       "      <td id=\"T_0c1a5_row0_col0\" class=\"data row0 col0\" >Positive</td>\n",
       "      <td id=\"T_0c1a5_row0_col1\" class=\"data row0 col1\" >173738</td>\n",
       "    </tr>\n",
       "    <tr>\n",
       "      <th id=\"T_0c1a5_level0_row1\" class=\"row_heading level0 row1\" >1</th>\n",
       "      <td id=\"T_0c1a5_row1_col0\" class=\"data row1 col0\" >Neutral</td>\n",
       "      <td id=\"T_0c1a5_row1_col1\" class=\"data row1 col1\" >498625</td>\n",
       "    </tr>\n",
       "    <tr>\n",
       "      <th id=\"T_0c1a5_level0_row2\" class=\"row_heading level0 row2\" >0</th>\n",
       "      <td id=\"T_0c1a5_row2_col0\" class=\"data row2 col0\" >Negative</td>\n",
       "      <td id=\"T_0c1a5_row2_col1\" class=\"data row2 col1\" >53472</td>\n",
       "    </tr>\n",
       "  </tbody>\n",
       "</table>\n"
      ],
      "text/plain": [
       "<pandas.io.formats.style.Styler at 0x1d844eddea0>"
      ]
     },
     "execution_count": 213,
     "metadata": {},
     "output_type": "execute_result"
    }
   ],
   "source": [
    "temp1=df.groupby('sentiment')['text'].count().reset_index().sort_values(by='sentiment', ascending=False)\n",
    "temp1.style.background_gradient(cmap='Blues')\n",
    "\n",
    "# Order by sentiment"
   ]
  },
  {
   "cell_type": "code",
   "execution_count": 214,
   "metadata": {},
   "outputs": [
    {
     "data": {
      "text/html": [
       "<style type=\"text/css\">\n",
       "#T_6da80_row0_col1 {\n",
       "  background-color: #08306b;\n",
       "  color: #f1f1f1;\n",
       "}\n",
       "#T_6da80_row1_col1 {\n",
       "  background-color: #bfd8ed;\n",
       "  color: #000000;\n",
       "}\n",
       "#T_6da80_row2_col1 {\n",
       "  background-color: #f7fbff;\n",
       "  color: #000000;\n",
       "}\n",
       "</style>\n",
       "<table id=\"T_6da80\">\n",
       "  <thead>\n",
       "    <tr>\n",
       "      <th class=\"blank level0\" >&nbsp;</th>\n",
       "      <th id=\"T_6da80_level0_col0\" class=\"col_heading level0 col0\" >sentiment</th>\n",
       "      <th id=\"T_6da80_level0_col1\" class=\"col_heading level0 col1\" >text</th>\n",
       "    </tr>\n",
       "  </thead>\n",
       "  <tbody>\n",
       "    <tr>\n",
       "      <th id=\"T_6da80_level0_row0\" class=\"row_heading level0 row0\" >1</th>\n",
       "      <td id=\"T_6da80_row0_col0\" class=\"data row0 col0\" >Neutral</td>\n",
       "      <td id=\"T_6da80_row0_col1\" class=\"data row0 col1\" >498625</td>\n",
       "    </tr>\n",
       "    <tr>\n",
       "      <th id=\"T_6da80_level0_row1\" class=\"row_heading level0 row1\" >2</th>\n",
       "      <td id=\"T_6da80_row1_col0\" class=\"data row1 col0\" >Positive</td>\n",
       "      <td id=\"T_6da80_row1_col1\" class=\"data row1 col1\" >173738</td>\n",
       "    </tr>\n",
       "    <tr>\n",
       "      <th id=\"T_6da80_level0_row2\" class=\"row_heading level0 row2\" >0</th>\n",
       "      <td id=\"T_6da80_row2_col0\" class=\"data row2 col0\" >Negative</td>\n",
       "      <td id=\"T_6da80_row2_col1\" class=\"data row2 col1\" >53472</td>\n",
       "    </tr>\n",
       "  </tbody>\n",
       "</table>\n"
      ],
      "text/plain": [
       "<pandas.io.formats.style.Styler at 0x1d844d3e3b0>"
      ]
     },
     "execution_count": 214,
     "metadata": {},
     "output_type": "execute_result"
    }
   ],
   "source": [
    "temp2=df.groupby('sentiment')['text'].count().reset_index().sort_values(by='text', ascending=False)\n",
    "temp2.style.background_gradient(cmap='Blues')\n",
    "\n",
    "# Order by text"
   ]
  },
  {
   "cell_type": "code",
   "execution_count": 249,
   "metadata": {},
   "outputs": [
    {
     "data": {
      "image/png": "[encoded data removed]",
      "text/plain": [
       "<Figure size 1000x600 with 1 Axes>"
      ]
     },
     "metadata": {},
     "output_type": "display_data"
    }
   ],
   "source": [
    "plt.figure(figsize=(10, 6))\n",
    "# sns.countplot(df['sentiment'])\n",
    "sns.countplot(x='sentiment', data = df)\n",
    "plt.title('Sentiment Distribution', fontsize = 20)\n",
    "plt.yticks(range(0, 600000, 35000))\n",
    "\n",
    "# add count labels to the top of each bar\n",
    "for i in range(len(df['sentiment'].value_counts())):\n",
    "    count = df['sentiment'].value_counts()[i]\n",
    "    plt.text(i, count+2000, str(count), ha='center', fontsize=12)\n",
    "\n",
    "plt.show()"
   ]
  },
  {
   "cell_type": "code",
   "execution_count": 240,
   "metadata": {},
   "outputs": [
    {
     "data": {
      "text/plain": [
       "Text(0.5, 1.0, 'Sentiment Distribution in terms of %')"
      ]
     },
     "execution_count": 240,
     "metadata": {},
     "output_type": "execute_result"
    },
    {
     "data": {
      "image/png": "[encoded data removed]",
      "text/plain": [
       "<Figure size 600x600 with 1 Axes>"
      ]
     },
     "metadata": {},
     "output_type": "display_data"
    }
   ],
   "source": [
    "plt.figure(figsize=(6, 6))\n",
    "plt.pie(df['sentiment'].value_counts(), labels=df['sentiment'].value_counts().index, autopct='%1.1f%%')\n",
    "\n",
    "plt.title('Sentiment Distribution in terms of %', fontsize=20)"
   ]
  },
  {
   "cell_type": "code",
   "execution_count": null,
   "metadata": {},
   "outputs": [],
   "source": []
  }
 ],
 "metadata": {
  "kernelspec": {
   "display_name": "Python 3",
   "language": "python",
   "name": "python3"
  },
  "language_info": {
   "codemirror_mode": {
    "name": "ipython",
    "version": 3
   },
   "file_extension": ".py",
   "mimetype": "text/x-python",
   "name": "python",
   "nbconvert_exporter": "python",
   "pygments_lexer": "ipython3",
   "version": "3.10.8"
  },
  "orig_nbformat": 4,
  "vscode": {
   "interpreter": {
    "hash": "bb777c545753c519da2e4fb0f9b6fe7cea20842abdca67f3841cba26dd4f4614"
   }
  }
 },
 "nbformat": 4,
 "nbformat_minor": 2
}
